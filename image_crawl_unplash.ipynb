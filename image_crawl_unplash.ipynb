{
 "cells": [
  {
   "cell_type": "code",
   "execution_count": 1,
   "metadata": {},
   "outputs": [],
   "source": [
    "from selenium import webdriver\n",
    "from selenium.webdriver.common.by import By\n",
    "import chromedriver_autoinstaller\n",
    "from selenium import webdriver\n",
    "import time\n",
    "import re\n",
    "from selenium.webdriver.common.keys import Keys \n",
    "from urllib.parse import quote_plus\n",
    "from urllib.request import urlopen\n",
    "import os"
   ]
  },
  {
   "cell_type": "code",
   "execution_count": 2,
   "metadata": {},
   "outputs": [],
   "source": [
    "def Driver():\n",
    "    options = webdriver.ChromeOptions()\n",
    "    options.add_experimental_option(\"excludeSwitches\", [\"enable-logging\"])\n",
    "    #options.add_argument(\"headless\")\n",
    "    options.add_argument('--start-fullscreen')\n",
    "    options.add_argument('--no-sandbox')\n",
    "    options.add_argument('--disable-dev-shm-usage')\n",
    "    wd = webdriver.Chrome(options = options)\n",
    "    return wd"
   ]
  },
  {
   "cell_type": "code",
   "execution_count": 6,
   "metadata": {},
   "outputs": [],
   "source": [
    "# 베이스 URL과 상업적 이용 가능 옵션\n",
    "def make_url(word):\n",
    "    base_url = 'https://unsplash.com/ko/s/%EC%82%AC%EC%A7%84/'\n",
    "    return base_url + word"
   ]
  },
  {
   "cell_type": "code",
   "execution_count": 12,
   "metadata": {},
   "outputs": [
    {
     "data": {
      "text/plain": [
       "[]"
      ]
     },
     "execution_count": 12,
     "metadata": {},
     "output_type": "execute_result"
    }
   ],
   "source": [
    "d = Driver()\n",
    "\n",
    "d.get(make_url('asian'))\n",
    "images= d.find_elements(By.XPATH, f'//*[@id=\"app\"]/div/div[2]/div[4]/div[1]/div/div/div/div[1]/figure[1]/div/div/a/div/div[2]/img')\n",
    "d.close()\n",
    "images"
   ]
  },
  {
   "cell_type": "code",
   "execution_count": 8,
   "metadata": {},
   "outputs": [],
   "source": [
    "# 해당하는 폴더가 없을 경우 생성해주는 함수\n",
    "def makedirs(path): \n",
    "   try: \n",
    "        os.makedirs(path) \n",
    "   except OSError: \n",
    "       if not os.path.isdir(path): \n",
    "           raise"
   ]
  },
  {
   "cell_type": "code",
   "execution_count": 9,
   "metadata": {},
   "outputs": [],
   "source": [
    "def save_images(image_url, paths, file_name, i):\n",
    "    import base64\n",
    "        \n",
    "    if 'data:' in str(image_url):\n",
    "        pass\n",
    "    else:\n",
    "        t= urlopen(image_url).read()\n",
    "        file = open(os.path.join(paths, file_name+'_'+str(i)+\".gif\"), 'wb')\n",
    "        file.write(t)"
   ]
  },
  {
   "cell_type": "code",
   "execution_count": null,
   "metadata": {},
   "outputs": [],
   "source": [
    "xpath = [\n",
    "    '//*[@id=\"app\"]/div/div[2]/div[4]/div[1]/div/div/div/div[1]/figure[1]/div/div/a/div/div[2]/img',\n",
    "    '//*[@id=\"app\"]/div/div[2]/div[4]/div[1]/div/div/div/div[2]/figure[1]/div/div/a/div/div[2]/img',\n",
    "    '//*[@id=\"app\"]/div/div[2]/div[4]/div[1]/div/div/div/div[3]/figure[1]/div/div/a/div/div[2]/img'\n",
    "]"
   ]
  },
  {
   "cell_type": "code",
   "execution_count": null,
   "metadata": {},
   "outputs": [],
   "source": [
    "def naver_crawl(image_numbers):\n",
    "    wd = Driver()\n",
    "    wd.implicitly_wait(3)    \n",
    "       \n",
    "    # 음식에 해당하는 검색어를 입력한 페이지 출력\n",
    "    print(f\"------------------ Start Asian ----------------------\")\n",
    "    wd.get(make_url('asian'))\n",
    "    time.sleep(2)\n",
    "    for i in range(1,image_numbers+1):\n",
    "        time.sleep(2)\n",
    "        # i에 해당하는 이미지가 없을 경우 PASS\n",
    "        try:\n",
    "            # image url 추출\n",
    "            images= wd.find_elements(By.XPATH, f'//*[@id=\"app\"]/div/div[2]/div[4]/div[1]/div/div/div/div[1]/figure[{i}]/div/div/a/div/div[2]/img')\n",
    "            save_path = f'/Users/mgd81/CP1/images/test/'\n",
    "            makedirs(save_path)\n",
    "            src = images[0].get_attribute('img')\n",
    "            save_images(str(src), save_path, f'{meal}_{food}_', i)\n",
    "            \n",
    "            # 이미지가 10개가 넘어갈때 마다 PAGE_DOWN\n",
    "            if i % 10 == 0:\n",
    "                body = wd.find_element(By.XPATH,'//body').send_keys(Keys.PAGE_DOWN)\n",
    "                time.sleep(3)\n",
    "        except:\n",
    "            print(f\"No element in {i}\")\n",
    "            continue\n",
    "    print(f\"------------------ end {meal} / {food} ----------------------\")\n",
    "    wd.close()\n",
    "    print(\"End_crawling\")"
   ]
  }
 ],
 "metadata": {
  "kernelspec": {
   "display_name": "crawling",
   "language": "python",
   "name": "python3"
  },
  "language_info": {
   "codemirror_mode": {
    "name": "ipython",
    "version": 3
   },
   "file_extension": ".py",
   "mimetype": "text/x-python",
   "name": "python",
   "nbconvert_exporter": "python",
   "pygments_lexer": "ipython3",
   "version": "3.8.16"
  },
  "orig_nbformat": 4
 },
 "nbformat": 4,
 "nbformat_minor": 2
}
