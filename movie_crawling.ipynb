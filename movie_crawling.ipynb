{
  "cells": [
    {
      "cell_type": "markdown",
      "id": "Y0J_UW_Mi_ie",
      "metadata": {
        "id": "Y0J_UW_Mi_ie"
      },
      "source": [
        "- 해당 코드는 다음 블로그 : https://developer-ankiwoong.tistory.com/843?category=847288 를 참고하여 작성하였습니다.\n",
        "\n",
        "- 참고자료\n",
        "https://warm-uk.tistory.com/43"
      ]
    },
    {
      "cell_type": "code",
      "execution_count": 1,
      "id": "f300ce1f",
      "metadata": {
        "id": "f300ce1f"
      },
      "outputs": [],
      "source": [
        "import requests\n",
        "from requests import get\n",
        "from bs4 import BeautifulSoup\n",
        "import numpy as np\n",
        "import pandas as pd\n",
        "from fake_useragent import UserAgent\n",
        "from lxml import etree\n",
        "from time import sleep\n",
        "from random import randint"
      ]
    },
    {
      "cell_type": "code",
      "execution_count": 2,
      "id": "1842122c",
      "metadata": {
        "colab": {
          "base_uri": "https://localhost:8080/"
        },
        "id": "1842122c",
        "outputId": "a462c892-c9fe-428b-e529-1f7e56ed37ed"
      },
      "outputs": [],
      "source": [
        "# Useragent 생성 및 header 정보 생성\n",
        "ua = UserAgent(verify_ssl=False)\n",
        "headers = {'User-Agent' : ua.random}"
      ]
    },
    {
      "cell_type": "markdown",
      "id": "H868PD4ejMfF",
      "metadata": {
        "id": "H868PD4ejMfF"
      },
      "source": [
        "- 구글의 개발자 도구를 사용하여 해당 블럭에 매칭 되는 HTML 코드를 탐색하고, Feature들을 활용한 총 매출 예측을 만들기 위하여 최신 데이터를 수집하는 과정입니다."
      ]
    },
    {
      "cell_type": "code",
      "execution_count": 51,
      "id": "3f4f86ae",
      "metadata": {
        "colab": {
          "base_uri": "https://localhost:8080/"
        },
        "id": "3f4f86ae",
        "outputId": "35c7a042-1c42-46cd-bd84-47f9e050f809"
      },
      "outputs": [],
      "source": [
        "\"\"\"\n",
        "&start=251&ref_=adv_nxt -> 다음페이지 규칙\n",
        "\"\"\"\n",
        "import re\n",
        "import datetime\n",
        "# crawling log\n",
        "f = open(\"./movie_crawling_log.txt\", 'a', encoding='utf-8')\n",
        "now = datetime.datetime.now().strftime('%Y-%m-%d %H:%M:%S')\n",
        "f.write(f\"------------------------------------{now} crawling------------------------------------\\n\")\n",
        "\n",
        "def movie_crawling(amount):\n",
        "  ids =[]\n",
        "  titles = []\n",
        "  years = []\n",
        "  imdp_ratings = []\n",
        "  meta_scores = []\n",
        "  votes = []\n",
        "  genres=[]\n",
        "  directors=[]\n",
        "  actors=[]\n",
        "  grosses=[]\n",
        "  storys=[]\n",
        "  movie_rates=[]\n",
        "  pages = np.arange(1,amount+1, 250)\n",
        "  i=1\n",
        "  for page in pages:\n",
        "      \n",
        "      page = requests.get(\n",
        "          \"https://www.imdb.com/search/title/?title_type=feature&release_date=1980-01-01,2022-07-30&user_rating=1.0,10.0&colors=color&languages=en&count=250&start=\"\n",
        "          + str(page)\n",
        "          + \"&ref_=adv_nxt\", headers=headers)\n",
        "      soup = BeautifulSoup(page.text, \"html.parser\") # html 파싱\n",
        "      movie_div = soup.find_all('div', class_='lister-item mode-advanced')\n",
        "      sleep(randint(2,10))\n",
        "    \n",
        "      for container in movie_div:\n",
        "                    \n",
        "      # 제목  \n",
        "        name = container.h3.a\n",
        "        if name == None:\n",
        "          titles.append(np.nan)\n",
        "        else:\n",
        "          titles.append(name.text)\n",
        "          ids.append(i)\n",
        "          i += 1\n",
        "        \n",
        "      # 개봉년도\n",
        "        year = container.h3.find('span', class_='lister-item-year')\n",
        "        if year == None:\n",
        "          years.append(np.nan)\n",
        "        else:\n",
        "          year = year.text\n",
        "          year = re.findall(r'\\d+', year)\n",
        "          year = ' '.join(map(str, year))\n",
        "          years.append(year)\n",
        "  \n",
        "      # 장르\n",
        "        genre = container.find('span', class_='genre')\n",
        "        if genre == None:\n",
        "          genres.append(np.nan)\n",
        "        else:\n",
        "          genres.append(genre.text.replace('\\n',''))\n",
        "    \n",
        "      # 메타스코어\n",
        "        m_score = container.find('span','metascore')\n",
        "        if m_score == None:\n",
        "          meta_scores.append(np.nan)\n",
        "        else:\n",
        "          m_score = m_score.text\n",
        "          meta_scores.append(float(m_score))\n",
        "    \n",
        "      # IMDP rates\n",
        "        imdp = container.find('strong')\n",
        "        if imdp == None:\n",
        "          imdp_ratings.append(np.nan)\n",
        "        else:\n",
        "          imdp = imdp.text\n",
        "          imdp_ratings.append(float(imdp))\n",
        "\n",
        "      # Director\n",
        "        director = container.find('h3', class_ ='lister-item-header').findNext('p').findNext('p').findNext('p')\n",
        "        if director == None:\n",
        "          directors.append(np.nan)\n",
        "        else:\n",
        "          director = director.text.replace('\\n','').replace(' ','').replace(':','').replace('|', '')\n",
        "          p = re.compile('{}(.*){}'.format(re.escape('Director'), re.escape('Stars')))\n",
        "          director = p.findall(director)\n",
        "          director = ' '.join(map(str, director))\n",
        "          directors.append(director)\n",
        "          \n",
        "\n",
        "      # Actor\n",
        "        actor = container.find('h3', class_ ='lister-item-header').findNext('p').findNext('p').findNext('p')\n",
        "        if actor == None:\n",
        "          actors.append(np.nan)\n",
        "        else:\n",
        "          actor = actor.text.replace('\\n','').replace(' ','').replace(':','').replace('|', '')\n",
        "          p = re.compile('{}(.*){}'.format(re.escape('Stars'), re.escape(',')))\n",
        "          actor = p.findall(actor)\n",
        "          actor = ' '.join(map(str, actor))\n",
        "          actors.append(actor)\n",
        "\n",
        "      # Vote\n",
        "        vote = container.find('span', attrs={'name' : 'nv'})\n",
        "        if vote == None:\n",
        "          votes.append(np.nan)\n",
        "        else:\n",
        "          vote = vote['data-value']\n",
        "          votes.append(int(vote))\n",
        "\n",
        "      # Movie rates\n",
        "        rate = container.find('span', class_='certificate')\n",
        "        if rate == None:\n",
        "          movie_rates.append(np.nan)\n",
        "        else:\n",
        "          movie_rates.append(rate.text)\n",
        "\n",
        "      # Story\n",
        "        story = container.find('div', class_='lister-item-content').findNext('p').findNext('p')\n",
        "        if story == None:\n",
        "           storys.append(np.nan)\n",
        "        else:\n",
        "           storys.append(story.text.replace('\\n',''))\n",
        "      \n",
        "      # Gross     \n",
        "      for container in movie_div:\n",
        "         gross = container.find('p', class_='sort-num_votes-visible')\n",
        "\n",
        "         if gross == None:\n",
        "           grosses.append(\"Not gross\")\n",
        "         else:\n",
        "           gross = gross.text.replace('\\n','')\n",
        "           p = re.compile('{}(.*){}'.format(re.escape('Gross:'), re.escape('')))\n",
        "           gross = p.findall(gross)\n",
        "           gross = ' '.join(map(str, gross))\n",
        "           if gross == '':\n",
        "             grosses.append(\"Not gross\")\n",
        "           else:\n",
        "             grosses.append(gross)\n",
        "      \n",
        "      # Data Frame 생성\n",
        "  movie = pd.DataFrame({\n",
        "    'id' : ids,\n",
        "    'title' : titles,\n",
        "    'years' : years,\n",
        "    'ratings' : imdp_ratings,\n",
        "    'scores' : meta_scores,\n",
        "    'votes' : votes,\n",
        "    'genres' : genres,\n",
        "    'director' : directors,\n",
        "    'actor' : actors,\n",
        "    'gross' : grosses,\n",
        "    'story' : storys,\n",
        "    'movie_rate' : movie_rates\n",
        "  })\n",
        "  f.write(f\"{len(movie)}개의 데이터 수집완료!\\n\")\n",
        "  return movie\n"
      ]
    },
    {
      "cell_type": "code",
      "execution_count": 52,
      "id": "ce61ba92",
      "metadata": {},
      "outputs": [],
      "source": [
        "from sqlalchemy import create_engine as crg\n",
        "import pymysql\n",
        "\n",
        "# 생성된 데이터프레임을 mysql에 넣어줌\n",
        "def insert_sql(df):\n",
        "    #DB CONNECTER\n",
        "    connection = \"mysql+pymysql://[user]:[password]@[host]/[your_dbname]\"\n",
        "    engine = crg(connection, encoding='utf-8')\n",
        "    conn = engine.connect()\n",
        "\n",
        "    df.to_sql(name='movie_info', con=engine, if_exists='append', index=False)\n",
        "    conn.close()\n",
        "    f.write(f\"{len(df)}개의 데이터 insert 완료!\\n\")\n",
        "\n"
      ]
    },
    {
      "cell_type": "code",
      "execution_count": 55,
      "id": "e711c18e",
      "metadata": {},
      "outputs": [],
      "source": [
        "insert_sql(movie_crawling(50000))"
      ]
    }
  ],
  "metadata": {
    "colab": {
      "collapsed_sections": [],
      "name": "Untitled-checkpoint.ipynb의 사본",
      "provenance": []
    },
    "kernelspec": {
      "display_name": "Python 3.8.13 ('s3_project')",
      "language": "python",
      "name": "python3"
    },
    "language_info": {
      "codemirror_mode": {
        "name": "ipython",
        "version": 3
      },
      "file_extension": ".py",
      "mimetype": "text/x-python",
      "name": "python",
      "nbconvert_exporter": "python",
      "pygments_lexer": "ipython3",
      "version": "3.8.13"
    },
    "vscode": {
      "interpreter": {
        "hash": "286ecae94cf36c4912add2d4991ed6db347a64773d935e15a73f1ebc3d816dd5"
      }
    }
  },
  "nbformat": 4,
  "nbformat_minor": 5
}
