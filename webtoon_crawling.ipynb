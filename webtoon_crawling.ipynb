{
 "cells": [
  {
   "cell_type": "code",
   "execution_count": 1,
   "metadata": {},
   "outputs": [],
   "source": [
    "from selenium import webdriver\n",
    "from selenium.webdriver.common.by import By\n",
    "from bs4 import BeautifulSoup\n",
    "import pymysql\n",
    "import random\n",
    "from selenium.webdriver.support.ui import WebDriverWait\n",
    "from selenium.webdriver.support import expected_conditions as EC\n",
    "from selenium.webdriver.common.keys import Keys\n",
    "from selenium.webdriver import ActionChains\n",
    "import datetime\n",
    "import time\n",
    "import numpy as np\n",
    "import pandas as pd\n",
    "import re"
   ]
  },
  {
   "cell_type": "code",
   "execution_count": 3,
   "metadata": {},
   "outputs": [],
   "source": [
    "options = webdriver.ChromeOptions()\n",
    "options.add_experimental_option(\"excludeSwitches\", [\"enable-logging\"])\n",
    "options.add_argument(\"headless\")\n",
    "driver = webdriver.Chrome(options = options)"
   ]
  },
  {
   "cell_type": "code",
   "execution_count": 4,
   "metadata": {},
   "outputs": [],
   "source": [
    "# Selenium class에서 성분 추출\n",
    "def execute_element(selenium_class):\n",
    "    global results\n",
    "    for element in selenium_class:\n",
    "        results = element.text\n",
    "    return results"
   ]
  },
  {
   "cell_type": "code",
   "execution_count": 5,
   "metadata": {},
   "outputs": [],
   "source": [
    "# 해당하는 웹툰 리스트를 반복검색하는 함수\n",
    "def iterator_search(search_platform, webtoon_list, id):\n",
    "    wbtoon_info = []\n",
    "    for idx in webtoon_list:\n",
    "        id += 1\n",
    "        info = search_platform(idx, driver, id)\n",
    "        if info==None:\n",
    "            id -= 1\n",
    "            pass\n",
    "        else: \n",
    "            wbtoon_info.append(info)\n",
    "    return wbtoon_info"
   ]
  },
  {
   "cell_type": "code",
   "execution_count": 6,
   "metadata": {},
   "outputs": [],
   "source": [
    "# 카카오 웹툰 검색\n",
    "def kakaotoon(webtoon_name, driver, id):\n",
    "    \n",
    "    # 크롤링 로그 기록 시작\n",
    "    f = open(\"./kakao_crawling_log.txt\", 'a', encoding='utf-8')\n",
    "    now = datetime.datetime.now().strftime('%Y-%m-%d %H:%M:%S')\n",
    "\n",
    "    # 카카오 웹툰 페이지를 불러와서 웹툰 제목에 해당하는 결과물 출력\n",
    "    driver.get('https://webtoon.kakao.com/search')\n",
    "    time.sleep(2)\n",
    "    f.write(f\"------------------------------------{now}------------------------------------\\n\")\n",
    "    search_box = driver.find_element(By.XPATH, '//*[@id=\"root\"]/main/div/div/div/div/div[2]/div/div/div[2]/div/div/input')\n",
    "    try:\n",
    "        search_box.send_keys(webtoon_name)\n",
    "        search_box.send_keys(Keys.RETURN)\n",
    "        time.sleep(2)\n",
    "        driver.find_element(By.XPATH, '//*[@id=\"root\"]/main/div/div/div/div/div[3]/div/div/div/div/div/a/div[2]').click()\n",
    "        time.sleep(2)   \n",
    "    except:\n",
    "        error = f\"'{webtoon_name}'라는 이름의 웹툰은 없습니다!\\n\"\n",
    "        f.write(error)\n",
    "        return print(error)\n",
    "    def get_info(i):\n",
    "        author = driver.find_elements(By.XPATH, f'//*[@id=\"root\"]/main/div/div[2]/div/div[1]/div[2]/div[1]/div[1]/div[{i}]/div[2]/div/div')\n",
    "        authors = execute_element(author)\n",
    "        \n",
    "        # author = driver.find_elements(By.XPATH, f'//*[@id=\"root\"]/main/div/div/div/div[1]/div[2]/div[1]/div[1]/div[{i}]/div[2]/div/p[2]')\n",
    "        # authors = execute_element(author) \n",
    "\n",
    "        # genre = driver.find_elements(By.XPATH, f'//*[@id=\"root\"]/main/div/div[2]/div/div[1]/div[2]/div[1]/div[1]/div[{i}]/div[2]/div/div/p[1]')\n",
    "        # genres = execute_element(genre)\n",
    "            \n",
    "        # view = driver.find_elements(By.XPATH,f'//*[@id=\"root\"]/main/div/div[2]/div/div[1]/div[2]/div[1]/div[1]/div[{i}]/div[2]/div/div/p[2]')\n",
    "        # views = execute_element(view)\n",
    "    \n",
    "        # good = driver.find_elements(By.XPATH, f'//*[@id=\"root\"]/main/div/div[2]/div/div[1]/div[2]/div[1]/div[1]/div[{i}]/div[2]/div/div/p[3]')\n",
    "        # goods = execute_element(good)\n",
    "            \n",
    "        driver.find_element(By.XPATH, f'//*[@id=\"root\"]/main/div/div[2]/div/div[1]/div[2]/div[1]/div[1]/div[{i}]/div[2]/div/p[1]').click()\n",
    "        return authors\n",
    "    while True:\n",
    "        try:\n",
    "            authors = get_info(4)            \n",
    "            \n",
    "        except:\n",
    "            print(f\"{webtoon_name}의 element의 XPATH가 일치하지 않습니다!\")\n",
    "            authors = get_info(3)\n",
    "        break\n",
    " \n",
    "    time.sleep(2)\n",
    "    story = driver.find_elements(By.XPATH, '//*[@id=\"root\"]/main/div/div[2]/div/div[1]/div[3]/div/div/div[1]/div/div[2]/div/div/div[2]/div/div/div/div/div[2]/div[2]/p')\n",
    "    storys = execute_element(story).replace('\\n',' ')\n",
    "\n",
    "    keyword = driver.find_elements(By.XPATH, '//*[@id=\"root\"]/main/div/div[2]/div/div[1]/div[3]/div/div/div[1]/div/div[2]/div/div/div[2]/div/div/div/div/div[3]/div[2]')\n",
    "    keywords = execute_element(keyword).replace('\\n','').replace('#',' ')\n",
    "\n",
    "    time.sleep(2)\n",
    "    \n",
    "    df = [id, webtoon_name, authors, storys, keywords]\n",
    "    f.write(f\"{webtoon_name}의 정보 크롤링 성공!\\n\")\n",
    "    f.write(f\"-------------------------------------------'end'-------------------------------------------\\n\")\n",
    "    return df"
   ]
  },
  {
   "cell_type": "code",
   "execution_count": 7,
   "metadata": {},
   "outputs": [],
   "source": [
    "# 네이버 웹툰 검색\n",
    "def navertoon(webtoon_name, driver, id):\n",
    "    # 크롤링 로그 기록 시작\n",
    "    f = open(\"./naver_crawling_log.txt\", 'a', encoding='utf-8')\n",
    "    now = datetime.datetime.now().strftime('%Y-%m-%d %H:%M:%S')\n",
    "\n",
    "    # 네이버 웹툰 페이지를 불러와서 웹툰 제목에 해당하는 결과물 출력\n",
    "    f.write(f\"------------------------------------{now}------------------------------------\\n\")\n",
    "    driver.get(f'https://comic.naver.com/search?keyword={webtoon_name}')\n",
    "    time.sleep(2)\n",
    "      \n",
    "    name = driver.find_elements(By.XPATH, '//*[@id=\"content\"]/div[2]/ul/li[1]/h5/a')\n",
    "    name_ = str(execute_element(name)).replace(' ','')\n",
    "    # 검색어에 맞는 웹툰인지 확인\n",
    "    if webtoon_name == name_:\n",
    "        driver.find_element(By.XPATH, '//*[@id=\"content\"]/div[2]/ul/li[1]/h5/a').click()\n",
    "    else: \n",
    "        f.write(f'{webtoon_name}의 이름의 네이버웹툰은 검색되지 않습니다.')\n",
    "        return print(\"검색결과가 없습니다.\")\n",
    "    time.sleep(2)\n",
    "    # 각 정보 추출\n",
    "    author = execute_element(driver.find_elements(By.XPATH, '//*[@id=\"content\"]/div[1]/div[2]/h2/span[3]'))\n",
    "    good = execute_element(driver.find_elements(By.XPATH, '//*[@id=\"content\"]/div[1]/div[2]/ul/li[5]/div/a/em'))\n",
    "    story = execute_element(driver.find_elements(By.XPATH, '//*[@id=\"content\"]/div[1]/div[2]/p[1]'))\n",
    "    genre = execute_element(driver.find_elements(By.XPATH, '//*[@id=\"content\"]/div[1]/div[2]/p[2]/span[1]'))\n",
    "    time.sleep(2)\n",
    "    driver.find_element(By.XPATH, '//*[@id=\"content\"]/table/tbody/tr[2]/td[2]/a').click()\n",
    "    star = execute_element(driver.find_elements(By.XPATH, '//*[@id=\"topPointTotalNumber\"]/strong'))\n",
    "    vote = execute_element(driver.find_elements(By.XPATH, '//*[@id=\"topTotalStarPoint\"]/span[3]/em'))\n",
    "    time.sleep(1)\n",
    "    keyword = execute_element(driver.find_elements(By.XPATH, '//*[@id=\"comic_view_area\"]/div[7]/div[1]')).replace('\\n', '')\n",
    "    time.sleep(1)\n",
    "    info = [id, webtoon_name,author, good, genre, vote, star, story, keyword]\n",
    "\n",
    "    f.write(f\"{webtoon_name}의 정보 크롤링 성공!\\n\")\n",
    "    f.write(f\"-------------------------------------------'end'-------------------------------------------\\n\")\n",
    "    return info"
   ]
  },
  {
   "cell_type": "code",
   "execution_count": 10,
   "metadata": {},
   "outputs": [],
   "source": [
    "# mysql db 연결 및 table 생성\n",
    "def insert_db(platform, wb_list):\n",
    "    conn = pymysql.connect(\n",
    "        host='host',\n",
    "        user='user',\n",
    "        password='password',\n",
    "        db='your_dbname',\n",
    "        charset='utf8mb4', \n",
    "        autocommit=True, \n",
    "        cursorclass=pymysql.cursors.DictCursor \n",
    "    )\n",
    "    \n",
    "    \n",
    "    \n",
    "    cur = conn.cursor()\n",
    "    if platform == 'naver':\n",
    "            information = iterator_search(navertoon,wb_list, id=0)\n",
    "            cur.executemany(f\"INSERT INTO {platform}toon(id, title, author, good, genre, vote, star, story, keyword) VALUES (%s, %s, %s, %s, %s, %s, %s, %s, %s)\", information)\n",
    "    elif platform == 'kakao':\n",
    "            information = iterator_search(kakaotoon,wb_list, id=0)\n",
    "            cur.executemany(f\"INSERT INTO {platform}toon(id, title, author,story, keyword) VALUES (%s,%s,%s,%s,%s)\", information)\n",
    "    else: \n",
    "            return print(\"올바른 플랫폼을 입력하세요.(소문자입력필수)\")\n",
    "    \n",
    "    conn.commit()\n",
    "    conn.close()\n",
    "\n",
    "\n"
   ]
  },
  {
   "cell_type": "code",
   "execution_count": 11,
   "metadata": {},
   "outputs": [
    {
     "name": "stdout",
     "output_type": "stream",
     "text": [
      "신림/남/22\n",
      "검색결과가 없습니다.\n",
      "전지적독자시점\n",
      "화산귀환\n"
     ]
    }
   ],
   "source": [
    "wb_list = ['ㄱ', '전지적독자시점','화산귀환']\n",
    "insert_db('naver', wb_list)"
   ]
  },
  {
   "cell_type": "code",
   "execution_count": null,
   "metadata": {},
   "outputs": [],
   "source": []
  }
 ],
 "metadata": {
  "kernelspec": {
   "display_name": "Python 3.8.13 ('s3_project')",
   "language": "python",
   "name": "python3"
  },
  "language_info": {
   "codemirror_mode": {
    "name": "ipython",
    "version": 3
   },
   "file_extension": ".py",
   "mimetype": "text/x-python",
   "name": "python",
   "nbconvert_exporter": "python",
   "pygments_lexer": "ipython3",
   "version": "3.8.13"
  },
  "orig_nbformat": 4,
  "vscode": {
   "interpreter": {
    "hash": "286ecae94cf36c4912add2d4991ed6db347a64773d935e15a73f1ebc3d816dd5"
   }
  }
 },
 "nbformat": 4,
 "nbformat_minor": 2
}
