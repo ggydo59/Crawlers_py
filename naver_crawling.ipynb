{
 "cells": [
  {
   "cell_type": "code",
   "execution_count": 1,
   "metadata": {},
   "outputs": [],
   "source": [
    "from selenium import webdriver\n",
    "from selenium.webdriver.common.by import By\n",
    "import chromedriver_autoinstaller\n",
    "import random\n",
    "from selenium import webdriver\n",
    "import datetime\n",
    "import time\n",
    "import numpy as np\n",
    "import pandas as pd\n",
    "import re\n",
    "from selenium.webdriver.common.keys import Keys \n",
    "from urllib.parse import quote_plus\n",
    "from urllib.request import urlopen\n",
    "import os"
   ]
  },
  {
   "cell_type": "markdown",
   "metadata": {},
   "source": [
    " # Naver food image crawling\n",
    " 식단관리앱 컨셉에 맞추어 주로 식단 관리하는 분들의 식사 범주에 맞추어 검색어를 선정하였고, 그 외에 일반식 같은 경우에 분류룰 최소화하여 데이터 수집을 진행하였습니다. <br>\n",
    " <br>\n",
    " 크롤링에는 네이버 API를 사용하는 방법과 크롬드라이버를 활용한 셀레니움 라이브러리를 사용하는 방법이 있고, 아래에서는 셀리니움으로 동적 크롤링을 진행하였습니다.\n",
    " "
   ]
  },
  {
   "cell_type": "markdown",
   "metadata": {},
   "source": [
    "## 1. Driver 함수 선언\n",
    "자동으로 크롬 드라이버의 위치를 찾는 옵션과 크롤링하면서 발생했던 문제 (이미지가 전부 로드 되지않아 제대로 다운이 되지 않았던 현상)를 해결하기 위해서 전체화면으로 실행하도록 설정하였습니다."
   ]
  },
  {
   "cell_type": "code",
   "execution_count": 2,
   "metadata": {},
   "outputs": [],
   "source": [
    "def Driver():\n",
    "    options = webdriver.ChromeOptions()\n",
    "    options.add_experimental_option(\"excludeSwitches\", [\"enable-logging\"])\n",
    "    #options.add_argument(\"headless\")\n",
    "    options.add_argument('--start-fullscreen')\n",
    "    options.add_argument('--no-sandbox')\n",
    "    options.add_argument('--disable-dev-shm-usage')\n",
    "    wd = webdriver.Chrome(options = options)\n",
    "    return wd"
   ]
  },
  {
   "cell_type": "markdown",
   "metadata": {},
   "source": [
    "## 2. 이미지를 수집할 홈페이지 출력\n",
    "먼저 검색어를 입력할 Base Url과 상업적으로 이용이 가능한 이미지를 필터링할 옵션을 넣어서 홈페이지를 출력하게끔 하였습니다."
   ]
  },
  {
   "cell_type": "code",
   "execution_count": 3,
   "metadata": {},
   "outputs": [],
   "source": [
    "# 베이스 URL과 상업적 이용 가능 옵션\n",
    "def make_url(word):\n",
    "    base_url = 'https://search.naver.com/search.naver?sm=tab_hty.top&where=image&query='\n",
    "    ccl = '&res_fr=0&res_to=0&sm=tab_opt&color=&ccl=2&nso=so%3Ar%2Ca%3Aall%2Cp%3Aall&recent=0&datetype=0&startdate=0&enddate=0&gif=0&optStr=&nso_open=1&pq='\n",
    "    return base_url + word + ccl"
   ]
  },
  {
   "cell_type": "markdown",
   "metadata": {},
   "source": [
    "## 3. 이미지를 저장할 폴더 생성\n",
    "검색어를 이용하여 디렉토리를 생성하는 함수입니다."
   ]
  },
  {
   "cell_type": "code",
   "execution_count": 4,
   "metadata": {},
   "outputs": [],
   "source": [
    "# 해당하는 폴더가 없을 경우 생성해주는 함수\n",
    "def makedirs(path): \n",
    "   try: \n",
    "        os.makedirs(path) \n",
    "   except OSError: \n",
    "       if not os.path.isdir(path): \n",
    "           raise"
   ]
  },
  {
   "cell_type": "markdown",
   "metadata": {},
   "source": [
    "## 4. 찾을 목록이 담긴 Dictionary\n",
    "해당 범주에 맞는 음식을 분류하고 추가 삭제가 용이하게 하기 위하여 dictionary를 통해 선언하였습니다."
   ]
  },
  {
   "cell_type": "code",
   "execution_count": 5,
   "metadata": {},
   "outputs": [],
   "source": [
    "# 찾을 목록이 담긴 dictionary\n",
    "search_dict = {\n",
    "        '건강식단': ['샐러드','고구마요리','닭가슴살','연어음식','오트밀'],\n",
    "        '밥류' : ['볶음밥','덮밥','한정식','돈까스','오므라이스'],\n",
    "        '면류' : ['라면','짜장면','짬뽕','파스타','냉면', '국수'],\n",
    "        '패스트푸드' : ['햄버거','감자튀김','피자','치킨','떢볶이'],\n",
    "        '디저트류' : ['카페음료','와플','아이스크림','조각케이크','쿠키','빙수']}"
   ]
  },
  {
   "cell_type": "markdown",
   "metadata": {},
   "source": [
    "## 5. 이미지를 저장\n",
    "간혹 이미지가 로드되는 경우에는 이미지를 저장하지 않고 넘어가고 그 외에는 음식범주 음식이름 인덱스를 파일명에 추가하여 저장하였습니다."
   ]
  },
  {
   "cell_type": "code",
   "execution_count": 6,
   "metadata": {},
   "outputs": [],
   "source": [
    "def save_images(image_url, paths, file_name, i):\n",
    "    import base64\n",
    "        \n",
    "    if 'data:' in str(image_url):\n",
    "        pass\n",
    "    else:\n",
    "        t= urlopen(image_url).read()\n",
    "        file = open(os.path.join(paths, file_name+'_'+str(i)+\".gif\"), 'wb')\n",
    "        file.write(t)"
   ]
  },
  {
   "cell_type": "markdown",
   "metadata": {},
   "source": [
    "## 6. 이미지 크롤링 진행\n",
    "이미지에서 다음이미지로 넘어가는 패턴을 XPATH를 통해 찾아내었고 모든 이미지를 로드하기 위한 스크롤 다운 기능과 지연시간을 설정하고 또한 elements를 찾지 못하는 경우 예외처리를 하여 안정적으로 크롤링을 수행할 수 있게 구현하였습니다."
   ]
  },
  {
   "cell_type": "code",
   "execution_count": 7,
   "metadata": {},
   "outputs": [],
   "source": [
    "def naver_crawl(image_numbers):\n",
    "    wd = Driver()\n",
    "    wd.implicitly_wait(3)\n",
    "    for meal in search_dict:\n",
    "        for food in search_dict[meal]:\n",
    "                # 음식에 해당하는 검색어를 입력한 페이지 출력\n",
    "                print(f\"------------------ Start {meal} / {food} ----------------------\")\n",
    "                wd.get(make_url(food))\n",
    "                time.sleep(2)\n",
    "                for i in range(1,image_numbers+1):\n",
    "                    time.sleep(2)\n",
    "                    # i에 해당하는 이미지가 없을 경우 PASS\n",
    "                    try:\n",
    "                        # image url 추출\n",
    "                        images= wd.find_elements(By.XPATH, f'//*[@id=\"main_pack\"]/section[2]/div/div[1]/div[1]/div[{i}]/div/div[1]/a/img')\n",
    "                        save_path = f'/Users/mgd81/CP1/images/{meal}/'\n",
    "                        makedirs(save_path)\n",
    "                        src = images[0].get_attribute('src')\n",
    "                        save_images(str(src), save_path, f'{meal}_{food}_', i)\n",
    "                        \n",
    "                        # 이미지가 10개가 넘어갈때 마다 PAGE_DOWN\n",
    "                        if i % 10 == 0:\n",
    "                            body = wd.find_element(By.XPATH,'//body').send_keys(Keys.PAGE_DOWN)\n",
    "                            time.sleep(3)\n",
    "                    except:\n",
    "                        print(f\"No element in {i}\")\n",
    "                        continue\n",
    "                print(f\"------------------ end {meal} / {food} ----------------------\")\n",
    "    wd.close()\n",
    "    print(\"End_crawling\")"
   ]
  },
  {
   "cell_type": "code",
   "execution_count": 8,
   "metadata": {},
   "outputs": [
    {
     "name": "stdout",
     "output_type": "stream",
     "text": [
      "------------------ Start 건강식단 / 샐러드 ----------------------\n",
      "No element in 11\n",
      "No element in 35\n",
      "------------------ end 건강식단 / 샐러드 ----------------------\n",
      "------------------ Start 건강식단 / 고구마요리 ----------------------\n",
      "No element in 11\n",
      "No element in 35\n",
      "------------------ end 건강식단 / 고구마요리 ----------------------\n",
      "------------------ Start 건강식단 / 닭가슴살 ----------------------\n",
      "No element in 11\n",
      "No element in 35\n",
      "------------------ end 건강식단 / 닭가슴살 ----------------------\n",
      "------------------ Start 건강식단 / 연어음식 ----------------------\n",
      "------------------ end 건강식단 / 연어음식 ----------------------\n",
      "------------------ Start 건강식단 / 오트밀 ----------------------\n",
      "No element in 11\n",
      "No element in 35\n",
      "------------------ end 건강식단 / 오트밀 ----------------------\n",
      "------------------ Start 밥류 / 볶음밥 ----------------------\n",
      "No element in 11\n",
      "No element in 35\n",
      "------------------ end 밥류 / 볶음밥 ----------------------\n",
      "------------------ Start 밥류 / 덮밥 ----------------------\n",
      "No element in 11\n",
      "No element in 35\n",
      "------------------ end 밥류 / 덮밥 ----------------------\n",
      "------------------ Start 밥류 / 한정식 ----------------------\n",
      "No element in 11\n",
      "No element in 35\n",
      "------------------ end 밥류 / 한정식 ----------------------\n",
      "------------------ Start 밥류 / 돈까스 ----------------------\n",
      "No element in 11\n",
      "No element in 35\n",
      "------------------ end 밥류 / 돈까스 ----------------------\n",
      "------------------ Start 밥류 / 오므라이스 ----------------------\n",
      "No element in 11\n",
      "No element in 35\n",
      "------------------ end 밥류 / 오므라이스 ----------------------\n",
      "------------------ Start 면류 / 라면 ----------------------\n",
      "No element in 11\n",
      "No element in 35\n",
      "------------------ end 면류 / 라면 ----------------------\n",
      "------------------ Start 면류 / 짜장면 ----------------------\n",
      "No element in 11\n",
      "No element in 35\n",
      "------------------ end 면류 / 짜장면 ----------------------\n",
      "------------------ Start 면류 / 짬뽕 ----------------------\n",
      "No element in 11\n",
      "No element in 35\n",
      "------------------ end 면류 / 짬뽕 ----------------------\n",
      "------------------ Start 면류 / 파스타 ----------------------\n",
      "No element in 11\n",
      "No element in 35\n",
      "------------------ end 면류 / 파스타 ----------------------\n",
      "------------------ Start 면류 / 냉면 ----------------------\n",
      "No element in 11\n",
      "No element in 35\n",
      "------------------ end 면류 / 냉면 ----------------------\n",
      "------------------ Start 면류 / 국수 ----------------------\n",
      "No element in 11\n",
      "No element in 35\n",
      "------------------ end 면류 / 국수 ----------------------\n",
      "------------------ Start 패스트푸드 / 햄버거 ----------------------\n",
      "No element in 11\n",
      "No element in 35\n",
      "------------------ end 패스트푸드 / 햄버거 ----------------------\n",
      "------------------ Start 패스트푸드 / 감자튀김 ----------------------\n",
      "No element in 11\n",
      "No element in 35\n",
      "------------------ end 패스트푸드 / 감자튀김 ----------------------\n",
      "------------------ Start 패스트푸드 / 피자 ----------------------\n",
      "No element in 11\n",
      "No element in 35\n",
      "------------------ end 패스트푸드 / 피자 ----------------------\n",
      "------------------ Start 패스트푸드 / 치킨 ----------------------\n",
      "No element in 11\n",
      "No element in 35\n",
      "------------------ end 패스트푸드 / 치킨 ----------------------\n",
      "------------------ Start 패스트푸드 / 떢볶이 ----------------------\n",
      "No element in 1\n",
      "No element in 2\n",
      "No element in 3\n",
      "No element in 4\n",
      "No element in 5\n",
      "No element in 6\n",
      "No element in 7\n",
      "No element in 8\n",
      "No element in 9\n",
      "No element in 10\n",
      "No element in 11\n",
      "No element in 12\n",
      "No element in 13\n",
      "No element in 14\n",
      "No element in 15\n",
      "No element in 16\n",
      "No element in 17\n",
      "No element in 18\n",
      "No element in 19\n",
      "No element in 20\n",
      "No element in 21\n",
      "No element in 22\n",
      "No element in 23\n",
      "No element in 24\n",
      "No element in 25\n",
      "No element in 26\n",
      "No element in 27\n",
      "No element in 28\n",
      "No element in 29\n",
      "No element in 30\n",
      "No element in 31\n",
      "No element in 32\n",
      "No element in 33\n",
      "No element in 34\n",
      "No element in 35\n",
      "No element in 36\n",
      "No element in 37\n",
      "No element in 38\n",
      "No element in 39\n",
      "No element in 40\n",
      "No element in 41\n",
      "No element in 42\n",
      "No element in 43\n",
      "No element in 44\n",
      "No element in 45\n",
      "------------------ end 패스트푸드 / 떢볶이 ----------------------\n",
      "------------------ Start 디저트류 / 카페음료 ----------------------\n",
      "No element in 11\n",
      "No element in 35\n",
      "------------------ end 디저트류 / 카페음료 ----------------------\n",
      "------------------ Start 디저트류 / 와플 ----------------------\n",
      "No element in 11\n",
      "No element in 35\n",
      "------------------ end 디저트류 / 와플 ----------------------\n",
      "------------------ Start 디저트류 / 아이스크림 ----------------------\n",
      "No element in 11\n",
      "No element in 35\n",
      "------------------ end 디저트류 / 아이스크림 ----------------------\n",
      "------------------ Start 디저트류 / 조각케이크 ----------------------\n",
      "No element in 11\n",
      "No element in 35\n",
      "------------------ end 디저트류 / 조각케이크 ----------------------\n",
      "------------------ Start 디저트류 / 쿠키 ----------------------\n",
      "No element in 11\n",
      "No element in 35\n",
      "------------------ end 디저트류 / 쿠키 ----------------------\n",
      "------------------ Start 디저트류 / 빙수 ----------------------\n",
      "No element in 11\n",
      "No element in 35\n",
      "------------------ end 디저트류 / 빙수 ----------------------\n",
      "End_crawling\n"
     ]
    }
   ],
   "source": [
    "naver_crawl(45)"
   ]
  },
  {
   "cell_type": "markdown",
   "metadata": {},
   "source": []
  },
  {
   "cell_type": "markdown",
   "metadata": {},
   "source": [
    "## 7. 기대 데이터 결과물 표\n",
    "|음식의 범주|음식 종류|이미지 개수|\n",
    "|---|---|---|\n",
    "|건강 식단|샐러드|300|\n",
    "||고구마 식단|300|\n",
    "||닭가슴살 식단|300|\n",
    "||연어 식단|300|\n",
    "|밥류|볶음밥|300|\n",
    "||덮밥|300|\n",
    "||한정식|300|\n",
    "||돈까스|300|\n",
    "||오므라이스|300|\n",
    "|면류|라면|300|\n",
    "||짜장면|300|\n",
    "||짬뽕|300|\n",
    "||파스타|300|\n",
    "||냉면|300|\n",
    "|패스트푸드|햄버거|300|\n",
    "||감자튀김|300|\n",
    "||피자|300|\n",
    "||치킨|300|\n",
    "|디저트류|카페음료|300|\n",
    "||와플|300|\n",
    "||아이스크림|300|\n",
    "||탄산음료|300|\n",
    "||조각케이크|300|\n",
    "||쿠키|300|\n",
    "||빙수|300|\n"
   ]
  }
 ],
 "metadata": {
  "kernelspec": {
   "display_name": "Python 3.8.13 ('s3_project')",
   "language": "python",
   "name": "python3"
  },
  "language_info": {
   "codemirror_mode": {
    "name": "ipython",
    "version": 3
   },
   "file_extension": ".py",
   "mimetype": "text/x-python",
   "name": "python",
   "nbconvert_exporter": "python",
   "pygments_lexer": "ipython3",
   "version": "3.8.13"
  },
  "orig_nbformat": 4,
  "vscode": {
   "interpreter": {
    "hash": "286ecae94cf36c4912add2d4991ed6db347a64773d935e15a73f1ebc3d816dd5"
   }
  }
 },
 "nbformat": 4,
 "nbformat_minor": 2
}
