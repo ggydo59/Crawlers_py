{
 "cells": [
  {
   "cell_type": "code",
   "execution_count": 8,
   "metadata": {},
   "outputs": [],
   "source": [
    "import numpy as np\n",
    "import pandas as pd\n",
    "from time import sleep\n",
    "from random import randint\n",
    "import re\n",
    "from selenium import webdriver\n",
    "from selenium.webdriver.common.by import By\n",
    "from selenium.webdriver.support.ui import WebDriverWait\n",
    "from selenium.webdriver.support import expected_conditions as EC\n",
    "from selenium.webdriver.common.keys import Keys\n",
    "from selenium.webdriver import ActionChains\n",
    "import pymysql\n",
    "import random\n",
    "\n",
    "import time\n",
    "import urllib.request"
   ]
  },
  {
   "cell_type": "code",
   "execution_count": 9,
   "metadata": {},
   "outputs": [],
   "source": [
    "# Selenium class에서 성분 추출\n",
    "def execute_element(selenium_class):\n",
    "    global results\n",
    "    for element in selenium_class:\n",
    "        results = element.text\n",
    "    return results"
   ]
  },
  {
   "cell_type": "code",
   "execution_count": 18,
   "metadata": {},
   "outputs": [],
   "source": [
    "def movie_crawl(movie_name):\n",
    "    options = webdriver.ChromeOptions()\n",
    "    options.add_experimental_option(\"excludeSwitches\", [\"enable-logging\"])\n",
    "    #options.add_argument(\"headless\")\n",
    "    #options.add_argument('--start-fullscreen')\n",
    "    driver = webdriver.Chrome(options = options)\n",
    "    driver.get(f'https://www.imdb.com/search/')\n",
    "    driver.set_window_size(1920,500)\n",
    "\n",
    "    totalWidth = driver.execute_script(\"return document.body.offsetWidth\")\n",
    "    totalHeight = driver.execute_script('return document.body.parentNode.scrollHeight')\n",
    "    # 화면의 실제 사이즈로 변경합니다.\n",
    "    driver.set_window_size(totalWidth, totalHeight)\n",
    "    # 네이버 웹툰 페이지를 불러와서 웹툰 제목에 해당하는 결과물 출력\n",
    "    \n",
    "    time.sleep(2)\n",
    "      \n",
    "    try:\n",
    "        search_box = driver.find_element(By.XPATH, '//*[@id=\"suggestion-search\"]')\n",
    "        search_box.send_keys(movie_name)\n",
    "        time.sleep(3)\n",
    "        driver.find_element(By.XPATH, '//*[@id=\"react-autowhatever-1--item-0\"]/a').click()\n",
    "        time.sleep(2)\n",
    "        title = execute_element(driver.find_elements(By.XPATH, '//*[@id=\"__next\"]/main/div/section[1]/section/div[3]/section/section/div[2]/div[1]/h1'))\n",
    "         # search_box.send_keys(Keys.RETURN)\n",
    "         # 각 해당정보 추출\n",
    "        rating = execute_element(driver.find_elements(By.XPATH, '//*[@id=\"__next\"]/main/div/section[1]/section/div[3]/section/section/div[2]/div[2]/div/div[1]/a/div/div/div[2]/div[1]/span[1]')) \n",
    "        genre1 = execute_element(driver.find_elements(By.XPATH, '//*[@id=\"__next\"]/main/div/section[1]/section/div[3]/section/section/div[3]/div[2]/div[1]/div[1]/div/div[2]/a[1]/span'))\n",
    "        genre2 = execute_element(driver.find_elements(By.XPATH, '//*[@id=\"__next\"]/main/div/section[1]/section/div[3]/section/section/div[3]/div[2]/div[1]/div[1]/div/div[2]/a[2]/span'))\n",
    "        story = execute_element(driver.find_elements(By.XPATH, '//*[@id=\"__next\"]/main/div/section[1]/section/div[3]/section/section/div[3]/div[2]/div[1]/div[1]/p/span[3]'))\n",
    "        year = execute_element(driver.find_elements(By.XPATH, '//*[@id=\"__next\"]/main/div/section[1]/section/div[3]/section/section/div[2]/div[1]/div/ul/li[1]/a'))\n",
    "        movie_rate = execute_element(driver.find_elements(By.XPATH, '//*[@id=\"__next\"]/main/div/section[1]/section/div[3]/section/section/div[2]/div[1]/div/ul/li[2]/a'))\n",
    "        director = execute_element(driver.find_elements(By.XPATH, '//*[@id=\"__next\"]/main/div/section[1]/section/div[3]/section/section/div[3]/div[2]/div[1]/div[3]/ul/li[1]/div/ul/li/a'))\n",
    "        lead_actor = execute_element(driver.find_elements(By.XPATH, '//*[@id=\"__next\"]/main/div/section[1]/section/div[3]/section/section/div[3]/div[2]/div[1]/div[3]/ul/li[3]/div/ul/li[1]'))\n",
    "        sup_actor = execute_element(driver.find_elements(By.XPATH, '//*[@id=\"__next\"]/main/div/section[1]/section/div[3]/section/section/div[3]/div[2]/div[1]/div[3]/ul/li[3]/div/ul/li[2]'))\n",
    "        score = execute_element(driver.find_elements(By.XPATH, '//*[@id=\"__next\"]/main/div/section[1]/section/div[3]/section/section/div[3]/div[2]/div[2]/ul/li[3]/a/span/span[1]/span'))\n",
    "        vote = execute_element(driver.find_elements(By.XPATH, '//*[@id=\"__next\"]/main/div/section[1]/section/div[3]/section/section/div[2]/div[2]/div/div[1]/a/div/div/div[2]/div[3]'))\n",
    "        time.sleep(2)\n",
    "        driver.find_element(By.XPATH,'//*[@id=\"__next\"]/main/div/section[1]/section/div[3]/section/section/div[3]/div[1]/div/div[1]/div/a/div').click()\n",
    "        time.sleep(2)\n",
    "        image = driver.find_element(By.XPATH, '//*[@id=\"__next\"]/main/div[2]/div[3]/div[4]/img').get_attribute(\"src\")\n",
    "        # urllib.request.urlretrieve(image, \"../image/str(movie_name)\"+\".jpg\")\n",
    "        image = image.replace(\"'\",'')    \n",
    "    except:\n",
    "        driver.close()\n",
    "        return None\n",
    "    \n",
    "    time.sleep(3)\n",
    "    \n",
    "   \n",
    "    def convert_unit(value):\n",
    "        unit = value[-1:] # 값의 맨마지막 값을 저장\n",
    "        value = re.sub(r'[KM]', '',value) # K,M 이 있으면 제거\n",
    "        if unit == 'K':                     # sales의 마지막 값에 K가 있으면 천을 곱하고 이외의 경우에는 100000 을 곱해준다\n",
    "            value = float(value) * 1000\n",
    "            return value\n",
    "        elif unit =='M':\n",
    "            value = float(value) * 100000\n",
    "            return value\n",
    "        else:\n",
    "            return value\n",
    "    vote = convert_unit(vote)\n",
    "    info = [title, int(year), float(rating), float(score), vote , director, story, movie_rate, genre1, genre2, lead_actor, sup_actor, image]\n",
    "    \n",
    "    return info\n"
   ]
  },
  {
   "cell_type": "code",
   "execution_count": 19,
   "metadata": {},
   "outputs": [
    {
     "data": {
      "text/plain": [
       "['헌트',\n",
       " 2022,\n",
       " 7.2,\n",
       " 55.0,\n",
       " '231',\n",
       " 'Lee Jung-jae',\n",
       " 'A spy movie based in the 1980s National Security Planning.',\n",
       " '15',\n",
       " 'Action',\n",
       " 'Drama',\n",
       " 'Lee Jung-jae',\n",
       " 'Jung Woo-sung',\n",
       " 'https://m.media-amazon.com/images/M/MV5BYzc3MzZmNTEtNzdlMy00NTkyLWIzYmMtNzA1YmY4MTMxOTg3XkEyXkFqcGdeQXVyNjk1NzU1Mjk@._V1_.jpg']"
      ]
     },
     "execution_count": 19,
     "metadata": {},
     "output_type": "execute_result"
    }
   ],
   "source": [
    "info = movie_crawl(\"헌트\", driver)\n",
    "info\n"
   ]
  },
  {
   "cell_type": "code",
   "execution_count": 20,
   "metadata": {},
   "outputs": [
    {
     "name": "stderr",
     "output_type": "stream",
     "text": [
      "c:\\Users\\mgd81\\anaconda3\\envs\\s3_project\\lib\\site-packages\\sklearn\\base.py:493: FutureWarning: The feature names should match those that were passed during fit. Starting version 1.2, an error will be raised.\n",
      "Feature names unseen at fit time:\n",
      "- story\n",
      "Feature names seen at fit time, yet now missing:\n",
      "- id\n",
      "\n",
      "  warnings.warn(message, FutureWarning)\n"
     ]
    },
    {
     "ename": "ValueError",
     "evalue": "Cannot use mean strategy with non-numeric data:\ncould not convert string to float: 'A spy movie based in the 1980s National Security Planning.'",
     "output_type": "error",
     "traceback": [
      "\u001b[1;31m---------------------------------------------------------------------------\u001b[0m",
      "\u001b[1;31mValueError\u001b[0m                                Traceback (most recent call last)",
      "\u001b[1;32mc:\\Users\\mgd81\\Section3\\Section3_project\\movie_crawl_version2.ipynb 셀 7\u001b[0m in \u001b[0;36m<cell line: 20>\u001b[1;34m()\u001b[0m\n\u001b[0;32m      <a href='vscode-notebook-cell:/c%3A/Users/mgd81/Section3/Section3_project/movie_crawl_version2.ipynb#X13sZmlsZQ%3D%3D?line=3'>4</a>\u001b[0m column \u001b[39m=\u001b[39m [\n\u001b[0;32m      <a href='vscode-notebook-cell:/c%3A/Users/mgd81/Section3/Section3_project/movie_crawl_version2.ipynb#X13sZmlsZQ%3D%3D?line=4'>5</a>\u001b[0m                     \u001b[39m'\u001b[39m\u001b[39mtitle\u001b[39m\u001b[39m'\u001b[39m,\n\u001b[0;32m      <a href='vscode-notebook-cell:/c%3A/Users/mgd81/Section3/Section3_project/movie_crawl_version2.ipynb#X13sZmlsZQ%3D%3D?line=5'>6</a>\u001b[0m                     \u001b[39m'\u001b[39m\u001b[39myears\u001b[39m\u001b[39m'\u001b[39m,\n\u001b[1;32m   (...)\u001b[0m\n\u001b[0;32m     <a href='vscode-notebook-cell:/c%3A/Users/mgd81/Section3/Section3_project/movie_crawl_version2.ipynb#X13sZmlsZQ%3D%3D?line=14'>15</a>\u001b[0m                     \u001b[39m'\u001b[39m\u001b[39mlead_actor\u001b[39m\u001b[39m'\u001b[39m,\n\u001b[0;32m     <a href='vscode-notebook-cell:/c%3A/Users/mgd81/Section3/Section3_project/movie_crawl_version2.ipynb#X13sZmlsZQ%3D%3D?line=15'>16</a>\u001b[0m                     \u001b[39m'\u001b[39m\u001b[39msup_actor\u001b[39m\u001b[39m'\u001b[39m]\n\u001b[0;32m     <a href='vscode-notebook-cell:/c%3A/Users/mgd81/Section3/Section3_project/movie_crawl_version2.ipynb#X13sZmlsZQ%3D%3D?line=16'>17</a>\u001b[0m movie_info \u001b[39m=\u001b[39m pd\u001b[39m.\u001b[39mDataFrame(\n\u001b[0;32m     <a href='vscode-notebook-cell:/c%3A/Users/mgd81/Section3/Section3_project/movie_crawl_version2.ipynb#X13sZmlsZQ%3D%3D?line=17'>18</a>\u001b[0m                 [info[:\u001b[39m-\u001b[39m\u001b[39m1\u001b[39m]],\n\u001b[0;32m     <a href='vscode-notebook-cell:/c%3A/Users/mgd81/Section3/Section3_project/movie_crawl_version2.ipynb#X13sZmlsZQ%3D%3D?line=18'>19</a>\u001b[0m                 columns\u001b[39m=\u001b[39mcolumn)\n\u001b[1;32m---> <a href='vscode-notebook-cell:/c%3A/Users/mgd81/Section3/Section3_project/movie_crawl_version2.ipynb#X13sZmlsZQ%3D%3D?line=19'>20</a>\u001b[0m res \u001b[39m=\u001b[39m model\u001b[39m.\u001b[39;49mpredict(movie_info)\n\u001b[0;32m     <a href='vscode-notebook-cell:/c%3A/Users/mgd81/Section3/Section3_project/movie_crawl_version2.ipynb#X13sZmlsZQ%3D%3D?line=20'>21</a>\u001b[0m result \u001b[39m=\u001b[39m np\u001b[39m.\u001b[39mexp(res)\n",
      "File \u001b[1;32mc:\\Users\\mgd81\\anaconda3\\envs\\s3_project\\lib\\site-packages\\sklearn\\pipeline.py:457\u001b[0m, in \u001b[0;36mPipeline.predict\u001b[1;34m(self, X, **predict_params)\u001b[0m\n\u001b[0;32m    455\u001b[0m Xt \u001b[39m=\u001b[39m X\n\u001b[0;32m    456\u001b[0m \u001b[39mfor\u001b[39;00m _, name, transform \u001b[39min\u001b[39;00m \u001b[39mself\u001b[39m\u001b[39m.\u001b[39m_iter(with_final\u001b[39m=\u001b[39m\u001b[39mFalse\u001b[39;00m):\n\u001b[1;32m--> 457\u001b[0m     Xt \u001b[39m=\u001b[39m transform\u001b[39m.\u001b[39;49mtransform(Xt)\n\u001b[0;32m    458\u001b[0m \u001b[39mreturn\u001b[39;00m \u001b[39mself\u001b[39m\u001b[39m.\u001b[39msteps[\u001b[39m-\u001b[39m\u001b[39m1\u001b[39m][\u001b[39m1\u001b[39m]\u001b[39m.\u001b[39mpredict(Xt, \u001b[39m*\u001b[39m\u001b[39m*\u001b[39mpredict_params)\n",
      "File \u001b[1;32mc:\\Users\\mgd81\\anaconda3\\envs\\s3_project\\lib\\site-packages\\sklearn\\impute\\_base.py:515\u001b[0m, in \u001b[0;36mSimpleImputer.transform\u001b[1;34m(self, X)\u001b[0m\n\u001b[0;32m    500\u001b[0m \u001b[39m\"\"\"Impute all missing values in `X`.\u001b[39;00m\n\u001b[0;32m    501\u001b[0m \n\u001b[0;32m    502\u001b[0m \u001b[39mParameters\u001b[39;00m\n\u001b[1;32m   (...)\u001b[0m\n\u001b[0;32m    511\u001b[0m \u001b[39m    `X` with imputed values.\u001b[39;00m\n\u001b[0;32m    512\u001b[0m \u001b[39m\"\"\"\u001b[39;00m\n\u001b[0;32m    513\u001b[0m check_is_fitted(\u001b[39mself\u001b[39m)\n\u001b[1;32m--> 515\u001b[0m X \u001b[39m=\u001b[39m \u001b[39mself\u001b[39;49m\u001b[39m.\u001b[39;49m_validate_input(X, in_fit\u001b[39m=\u001b[39;49m\u001b[39mFalse\u001b[39;49;00m)\n\u001b[0;32m    516\u001b[0m statistics \u001b[39m=\u001b[39m \u001b[39mself\u001b[39m\u001b[39m.\u001b[39mstatistics_\n\u001b[0;32m    518\u001b[0m \u001b[39mif\u001b[39;00m X\u001b[39m.\u001b[39mshape[\u001b[39m1\u001b[39m] \u001b[39m!=\u001b[39m statistics\u001b[39m.\u001b[39mshape[\u001b[39m0\u001b[39m]:\n",
      "File \u001b[1;32mc:\\Users\\mgd81\\anaconda3\\envs\\s3_project\\lib\\site-packages\\sklearn\\impute\\_base.py:317\u001b[0m, in \u001b[0;36mSimpleImputer._validate_input\u001b[1;34m(self, X, in_fit)\u001b[0m\n\u001b[0;32m    311\u001b[0m \u001b[39mif\u001b[39;00m \u001b[39m\"\u001b[39m\u001b[39mcould not convert\u001b[39m\u001b[39m\"\u001b[39m \u001b[39min\u001b[39;00m \u001b[39mstr\u001b[39m(ve):\n\u001b[0;32m    312\u001b[0m     new_ve \u001b[39m=\u001b[39m \u001b[39mValueError\u001b[39;00m(\n\u001b[0;32m    313\u001b[0m         \u001b[39m\"\u001b[39m\u001b[39mCannot use \u001b[39m\u001b[39m{}\u001b[39;00m\u001b[39m strategy with non-numeric data:\u001b[39m\u001b[39m\\n\u001b[39;00m\u001b[39m{}\u001b[39;00m\u001b[39m\"\u001b[39m\u001b[39m.\u001b[39mformat(\n\u001b[0;32m    314\u001b[0m             \u001b[39mself\u001b[39m\u001b[39m.\u001b[39mstrategy, ve\n\u001b[0;32m    315\u001b[0m         )\n\u001b[0;32m    316\u001b[0m     )\n\u001b[1;32m--> 317\u001b[0m     \u001b[39mraise\u001b[39;00m new_ve \u001b[39mfrom\u001b[39;00m \u001b[39mNone\u001b[39m\n\u001b[0;32m    318\u001b[0m \u001b[39melse\u001b[39;00m:\n\u001b[0;32m    319\u001b[0m     \u001b[39mraise\u001b[39;00m ve\n",
      "\u001b[1;31mValueError\u001b[0m: Cannot use mean strategy with non-numeric data:\ncould not convert string to float: 'A spy movie based in the 1980s National Security Planning.'"
     ]
    }
   ],
   "source": [
    "import pickle\n",
    "with open('model2.pkl', 'rb') as pickle_files:\n",
    "        model = pickle.load(pickle_files)\n",
    "column = [\n",
    "                    'title',\n",
    "                    'years',\n",
    "                    'ratings',\n",
    "                    'scores',\n",
    "                    'votes',\n",
    "                    'director',\n",
    "                    'story',\n",
    "                    'movie_rate',\n",
    "                    'genre1',\n",
    "                    'genre2',\n",
    "                    'lead_actor',\n",
    "                    'sup_actor']\n",
    "movie_info = pd.DataFrame(\n",
    "                [info[:-1]],\n",
    "                columns=column)\n",
    "res = model.predict(movie_info)\n",
    "result = np.exp(res)"
   ]
  },
  {
   "cell_type": "code",
   "execution_count": 112,
   "metadata": {},
   "outputs": [
    {
     "name": "stdout",
     "output_type": "stream",
     "text": [
      "<class 'pandas.core.frame.DataFrame'>\n",
      "RangeIndex: 1 entries, 0 to 0\n",
      "Data columns (total 12 columns):\n",
      " #   Column      Non-Null Count  Dtype  \n",
      "---  ------      --------------  -----  \n",
      " 0   title       1 non-null      object \n",
      " 1   years       1 non-null      int64  \n",
      " 2   ratings     1 non-null      float64\n",
      " 3   scores      1 non-null      float64\n",
      " 4   votes       1 non-null      float64\n",
      " 5   director    1 non-null      object \n",
      " 6   story       1 non-null      object \n",
      " 7   movie_rate  1 non-null      object \n",
      " 8   genre1      1 non-null      object \n",
      " 9   genre2      1 non-null      object \n",
      " 10  lead_actor  1 non-null      object \n",
      " 11  sup_actor   1 non-null      object \n",
      "dtypes: float64(3), int64(1), object(8)\n",
      "memory usage: 224.0+ bytes\n"
     ]
    }
   ],
   "source": [
    "# title\tyears\tratings\tscores\tvotes\tdirector\tstory\tmovie_rate\tgenre1\tgenre2\tlead_actor\tsup_actor\n",
    "\n",
    "df = pd.DataFrame([info], columns=['title','years','ratings','scores','votes','director','story','movie_rate','genre1','genre2','lead_actor','sup_actor'])\n",
    "df.info()"
   ]
  },
  {
   "cell_type": "code",
   "execution_count": 2,
   "metadata": {},
   "outputs": [
    {
     "data": {
      "text/plain": [
       "'c:\\\\Users\\\\mgd81\\\\Section3\\\\Section3_project'"
      ]
     },
     "execution_count": 2,
     "metadata": {},
     "output_type": "execute_result"
    }
   ],
   "source": [
    "import os\n",
    "from pathlib import Path\n",
    "\n",
    "current_path = Path(os.getcwd())\n",
    "str(current_path)"
   ]
  }
 ],
 "metadata": {
  "kernelspec": {
   "display_name": "Python 3.8.13 ('s3_project')",
   "language": "python",
   "name": "python3"
  },
  "language_info": {
   "codemirror_mode": {
    "name": "ipython",
    "version": 3
   },
   "file_extension": ".py",
   "mimetype": "text/x-python",
   "name": "python",
   "nbconvert_exporter": "python",
   "pygments_lexer": "ipython3",
   "version": "3.8.13"
  },
  "orig_nbformat": 4,
  "vscode": {
   "interpreter": {
    "hash": "286ecae94cf36c4912add2d4991ed6db347a64773d935e15a73f1ebc3d816dd5"
   }
  }
 },
 "nbformat": 4,
 "nbformat_minor": 2
}
